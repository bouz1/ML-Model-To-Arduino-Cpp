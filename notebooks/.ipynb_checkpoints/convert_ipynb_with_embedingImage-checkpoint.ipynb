{
 "cells": [
  {
   "cell_type": "code",
   "execution_count": 1,
   "id": "862daa95-df1e-45f8-aa23-389b33ec3ba3",
   "metadata": {},
   "outputs": [
    {
     "name": "stderr",
     "output_type": "stream",
     "text": [
      "[NbConvertApp] Converting notebook MLModelToArduinoCpp.ipynb to markdown\n",
      "[NbConvertApp] Support files will be in MLModelToArduinoCpp_files\\\n",
      "[NbConvertApp] Making directory MLModelToArduinoCpp_files\n",
      "[NbConvertApp] Making directory MLModelToArduinoCpp_files\n",
      "[NbConvertApp] Making directory MLModelToArduinoCpp_files\n",
      "[NbConvertApp] Making directory MLModelToArduinoCpp_files\n",
      "[NbConvertApp] Making directory MLModelToArduinoCpp_files\n",
      "[NbConvertApp] Making directory MLModelToArduinoCpp_files\n",
      "[NbConvertApp] Making directory MLModelToArduinoCpp_files\n",
      "[NbConvertApp] Making directory MLModelToArduinoCpp_files\n",
      "[NbConvertApp] Making directory MLModelToArduinoCpp_files\n",
      "[NbConvertApp] Making directory MLModelToArduinoCpp_files\n",
      "[NbConvertApp] Making directory MLModelToArduinoCpp_files\n",
      "[NbConvertApp] Making directory MLModelToArduinoCpp_files\n",
      "[NbConvertApp] Making directory MLModelToArduinoCpp_files\n",
      "[NbConvertApp] Making directory MLModelToArduinoCpp_files\n",
      "[NbConvertApp] Making directory MLModelToArduinoCpp_files\n",
      "[NbConvertApp] Writing 74789 bytes to MLModelToArduinoCpp.md\n"
     ]
    }
   ],
   "source": [
    "!jupyter nbconvert --to markdown --embed-images MLModelToArduinoCpp.ipynb"
   ]
  },
  {
   "cell_type": "code",
   "execution_count": null,
   "id": "a7e8f617-5860-422c-898c-50a839ead1b9",
   "metadata": {},
   "outputs": [],
   "source": []
  }
 ],
 "metadata": {
  "kernelspec": {
   "display_name": "Python 3 (ipykernel)",
   "language": "python",
   "name": "python3"
  },
  "language_info": {
   "codemirror_mode": {
    "name": "ipython",
    "version": 3
   },
   "file_extension": ".py",
   "mimetype": "text/x-python",
   "name": "python",
   "nbconvert_exporter": "python",
   "pygments_lexer": "ipython3",
   "version": "3.10.5"
  }
 },
 "nbformat": 4,
 "nbformat_minor": 5
}
